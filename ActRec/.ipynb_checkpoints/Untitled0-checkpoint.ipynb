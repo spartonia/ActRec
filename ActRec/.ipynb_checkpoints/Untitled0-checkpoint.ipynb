{
 "metadata": {
  "name": "",
  "signature": "sha256:d0b49a2beda8b50d1c490b5ea4b407aedfa57d786fd89f04e0ea5e526eae81d4"
 },
 "nbformat": 3,
 "nbformat_minor": 0,
 "worksheets": []
}